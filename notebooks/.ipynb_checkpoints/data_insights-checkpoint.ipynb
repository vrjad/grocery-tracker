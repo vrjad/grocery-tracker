{
 "cells": [
  {
   "cell_type": "code",
   "execution_count": null,
   "id": "6096a8aa-0755-4798-b756-42cbfcb7bd8d",
   "metadata": {},
   "outputs": [],
   "source": [
    "# Grocery Tracker — Data Insights\n",
    "Read data from backend/grocery.db and run quick checks & visualizations."
   ]
  },
  {
   "cell_type": "code",
   "execution_count": null,
   "id": "122bd5dd-6d23-4569-b01f-dcd935156d39",
   "metadata": {},
   "outputs": [],
   "source": [
    "# Cell 1 — imports & versions\n",
    "import sys, sqlite3, os\n",
    "import numpy as np\n",
    "import pandas as pd\n",
    "import matplotlib\n",
    "import matplotlib.pyplot as plt\n",
    "from datetime import datetime\n",
    "\n",
    "print(\"Python:\", sys.version.splitlines()[0])\n",
    "print(\"pandas:\", pd.__version__)\n",
    "print(\"numpy:\", np.__version__)\n",
    "print(\"matplotlib:\", matplotlib.__version__)"
   ]
  },
  {
   "cell_type": "code",
   "execution_count": null,
   "id": "6e9a6e8f-6d2b-4198-b783-fe93108b6d66",
   "metadata": {},
   "outputs": [],
   "source": [
    "# Cell 2 — connect and list tables\n",
    "# Adjust path if your project location is different.\n",
    "db_path = os.path.join(\"..\",\"backend\",\"grocery.db\")   # this assumes you launched jupyter from project root\n",
    "print(\"DB path:\", db_path)\n",
    "conn = sqlite3.connect(db_path)   # read-only queries are fine while Flask is running\n",
    "tables = pd.read_sql_query(\"SELECT name FROM sqlite_master WHERE type='table';\", conn)\n",
    "tables"
   ]
  },
  {
   "cell_type": "code",
   "execution_count": null,
   "id": "ae63e6c5-7725-45af-9cc3-292a4282fc47",
   "metadata": {},
   "outputs": [],
   "source": [
    "# Cell 3 — peek into all tables found\n",
    "for t in tables['name']:\n",
    "    print(\"\\n\\n--- TABLE:\", t, \"---\")\n",
    "    try:\n",
    "        display(pd.read_sql_query(f\"SELECT * FROM {t} LIMIT 10;\", conn))\n",
    "    except Exception as e:\n",
    "        print(\"Could not read table:\", e)"
   ]
  },
  {
   "cell_type": "code",
   "execution_count": null,
   "id": "5b36b4ae-dcab-4dc4-9b12-e3b28fb13c1e",
   "metadata": {},
   "outputs": [],
   "source": [
    "# Cell 4 — load the items table (change 'items' below to whatever name you saw)\n",
    "table_name = \"items\"   # <--- if your table name is different, change this to the name shown in Cell 3\n",
    "df_items = pd.read_sql_query(f\"SELECT * FROM {table_name};\", conn)\n",
    "df_items"
   ]
  },
  {
   "cell_type": "code",
   "execution_count": null,
   "id": "2a2c8018-a1fb-407a-baa3-8504e0361aa8",
   "metadata": {},
   "outputs": [],
   "source": [
    "# Cell 5 — make sure numeric columns are numeric and compute percent left safely\n",
    "df = df_items.copy()\n",
    "# convert columns to numeric if needed\n",
    "df['max_qty'] = pd.to_numeric(df.get('max_qty', pd.Series()), errors='coerce').fillna(0)\n",
    "df['current_qty'] = pd.to_numeric(df.get('current_qty', pd.Series()), errors='coerce').fillna(0)\n",
    "df['threshold_percent'] = pd.to_numeric(df.get('threshold_percent', pd.Series()), errors='coerce').fillna(20)\n",
    "\n",
    "# avoid division by zero: percent_left = 0 when max_qty==0\n",
    "df['percent_left'] = np.where(df['max_qty'] > 0, (df['current_qty'] / df['max_qty']) * 100, 0)\n",
    "df[['name','current_qty','max_qty','threshold_percent','percent_left']].sort_values('percent_left').head(20)"
   ]
  },
  {
   "cell_type": "code",
   "execution_count": null,
   "id": "82007ce3-22f3-4c37-92a1-e7069ccbb057",
   "metadata": {},
   "outputs": [],
   "source": [
    "# Cell 6 — items at or below their threshold\n",
    "low_mask = df['percent_left'] <= df['threshold_percent']\n",
    "df_low = df[low_mask].copy().sort_values('percent_left')\n",
    "df_low[['name','current_qty','max_qty','threshold_percent','percent_left']]"
   ]
  },
  {
   "cell_type": "code",
   "execution_count": null,
   "id": "946cb4cf-1629-4b59-8f80-52a0d0133f0a",
   "metadata": {},
   "outputs": [],
   "source": [
    "# Cell 7 — visualization\n",
    "plt.figure(figsize=(8, max(4, len(df)*0.3)))\n",
    "df_plot = df.sort_values('percent_left', ascending=True)\n",
    "plt.barh(df_plot['name'], df_plot['percent_left'])\n",
    "plt.xlabel('Percent left (%)')\n",
    "plt.title('Inventory — percent left per item')\n",
    "plt.xlim(0, 100)\n",
    "plt.grid(axis='x', alpha=0.3)\n",
    "plt.tight_layout()\n",
    "plt.show()"
   ]
  },
  {
   "cell_type": "code",
   "execution_count": null,
   "id": "b63f3bb7-ad7c-4c54-ba11-c9051c29d545",
   "metadata": {},
   "outputs": [],
   "source": [
    "# Cell 8 — save low items for quick reference\n",
    "out_csv = os.path.join(\"..\", \"notebooks\", \"low_items.csv\")   # saved to project/notebooks/\n",
    "df_low.to_csv(out_csv, index=False)\n",
    "print(\"Saved low-items CSV to:\", out_csv)"
   ]
  }
 ],
 "metadata": {
  "kernelspec": {
   "display_name": "Python 3 (ipykernel)",
   "language": "python",
   "name": "python3"
  },
  "language_info": {
   "codemirror_mode": {
    "name": "ipython",
    "version": 3
   },
   "file_extension": ".py",
   "mimetype": "text/x-python",
   "name": "python",
   "nbconvert_exporter": "python",
   "pygments_lexer": "ipython3",
   "version": "3.9.13"
  }
 },
 "nbformat": 4,
 "nbformat_minor": 5
}
